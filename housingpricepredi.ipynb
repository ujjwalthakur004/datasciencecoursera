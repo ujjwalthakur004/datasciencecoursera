{
  "nbformat": 4,
  "nbformat_minor": 0,
  "metadata": {
    "colab": {
      "name": "housingpricepredi.ipynb",
      "provenance": [],
      "authorship_tag": "ABX9TyPEqgTrlrpWzpVTSxtJdyCA",
      "include_colab_link": true
    },
    "kernelspec": {
      "name": "python3",
      "display_name": "Python 3"
    }
  },
  "cells": [
    {
      "cell_type": "markdown",
      "metadata": {
        "id": "view-in-github",
        "colab_type": "text"
      },
      "source": [
        "<a href=\"https://colab.research.google.com/github/ujjwalthakur004/datasciencecoursera/blob/main/housingpricepredi.ipynb\" target=\"_parent\"><img src=\"https://colab.research.google.com/assets/colab-badge.svg\" alt=\"Open In Colab\"/></a>"
      ]
    },
    {
      "cell_type": "markdown",
      "metadata": {
        "id": "0UaNU5M3Gr7o"
      },
      "source": [
        "# Intoduction to project#\r\n",
        "** This project is all about predicting the house price in \r\n",
        "California,the dataset which I am using ,is downloaded  from [here](https://github.com/ageron/handson-ml2).This is project ,i am pretending as real estate data scientist,how try to build a machine learning model which can predict the house prices,this house prices decides whether ny company should invest or not in particular area of California.**"
      ]
    },
    {
      "cell_type": "markdown",
      "metadata": {
        "id": "uum9gpu4ITo9"
      },
      "source": [
        "## SET UP ##"
      ]
    },
    {
      "cell_type": "markdown",
      "metadata": {
        "id": "Nz1Xi1zqIWcA"
      },
      "source": [
        "First thing,which we shold,is to import all the module which we are going to use in this project.We need numpy,pandas,matplotlib,os etc.\r\n",
        "\r\n",
        "Let import these modules.\r\n"
      ]
    },
    {
      "cell_type": "code",
      "metadata": {
        "id": "N3tkyigkJeQS"
      },
      "source": [
        "import sys\r\n",
        "import os\r\n",
        "import numpy as np\r\n",
        "import pandas as pd\r\n",
        "import sklearn\r\n",
        "\r\n",
        "#to plot figures and graphs\r\n",
        "%matplotlib inline\r\n",
        "import matplotlib as mpl\r\n",
        "import matplotlib.pyplot as plt\r\n",
        "mpl.rc('axes', labelsize=14)\r\n",
        "mpl.rc('xtick', labelsize=12)\r\n",
        "mpl.rc('ytick', labelsize=12)\r\n",
        "\r\n"
      ],
      "execution_count": null,
      "outputs": []
    }
  ]
}